{
 "cells": [
  {
   "cell_type": "code",
   "execution_count": 213,
   "id": "2b91d72f-b8c5-4998-a336-9373813bff35",
   "metadata": {},
   "outputs": [],
   "source": [
    "import cv2import cv2\n",
    "import  urllib.request\n",
    "from cvzone.HandTrackingModule import HandDetector\n",
    "detector = HandDetector(maxHands=1 , detectionCon=0.8 )"
   ]
  },
  {
   "cell_type": "code",
   "execution_count": 215,
   "id": "2205abd6-d79c-45db-9f24-2260d4861c68",
   "metadata": {},
   "outputs": [],
   "source": [
    "\n",
    "#detector.findHands()\n",
    "cap = cv2.VideoCapture(0)\n"
   ]
  },
  {
   "cell_type": "code",
   "execution_count": 217,
   "id": "2c97e949-7c56-49fd-bd02-281fece1be46",
   "metadata": {},
   "outputs": [],
   "source": [
    "ret, photo = cap.read()\n",
    "cv2.imshow(\"myphoto\", photo)\n",
    "cv2.waitKey()\n",
    "cv2.destroyAllWindows()\n",
    "cap.release()"
   ]
  },
  {
   "cell_type": "code",
   "execution_count": 201,
   "id": "5f3b1a8e-090a-43d1-bdb1-dbcd0b6a8abb",
   "metadata": {},
   "outputs": [
    {
     "name": "stdout",
     "output_type": "stream",
     "text": [
      "[{'lmList': [[831, 509, 0], [785, 494, -13], [743, 469, -24], [711, 443, -34], [685, 428, -44], [781, 403, -19], [760, 351, -31], [752, 321, -38], [747, 297, -43], [811, 395, -21], [806, 331, -30], [804, 295, -36], [806, 272, -40], [842, 397, -25], [841, 341, -32], [839, 307, -39], [840, 281, -44], [871, 407, -29], [884, 368, -36], [889, 341, -39], [893, 317, -42]], 'bbox': (685, 272, 208, 237), 'center': (789, 390), 'type': 'Right'}]\n"
     ]
    }
   ],
   "source": [
    "hand = detector.findHands(photo, draw=True)\n",
    "if hand:\n",
    "    hand_data = hand[0]  # Extract only the dictionary part\n",
    "    print(hand_data)  # Print only the relevant data\n"
   ]
  },
  {
   "cell_type": "code",
   "execution_count": 203,
   "id": "fab6f8d1-bd88-48a6-840c-7f64be3bff88",
   "metadata": {},
   "outputs": [
    {
     "data": {
      "text/plain": [
       "([{'lmList': [[831, 509, 0],\n",
       "    [785, 494, -13],\n",
       "    [743, 469, -24],\n",
       "    [711, 443, -34],\n",
       "    [685, 428, -44],\n",
       "    [781, 403, -19],\n",
       "    [760, 351, -31],\n",
       "    [752, 321, -38],\n",
       "    [747, 297, -43],\n",
       "    [811, 395, -21],\n",
       "    [806, 331, -30],\n",
       "    [804, 295, -36],\n",
       "    [806, 272, -40],\n",
       "    [842, 397, -25],\n",
       "    [841, 341, -32],\n",
       "    [839, 307, -39],\n",
       "    [840, 281, -44],\n",
       "    [871, 407, -29],\n",
       "    [884, 368, -36],\n",
       "    [889, 341, -39],\n",
       "    [893, 317, -42]],\n",
       "   'bbox': (685, 272, 208, 237),\n",
       "   'center': (789, 390),\n",
       "   'type': 'Right'}],\n",
       " array([[[162, 167, 166],\n",
       "         [166, 171, 170],\n",
       "         [167, 172, 171],\n",
       "         ...,\n",
       "         [211, 219, 225],\n",
       "         [216, 224, 230],\n",
       "         [217, 225, 231]],\n",
       " \n",
       "        [[162, 167, 166],\n",
       "         [167, 172, 171],\n",
       "         [166, 171, 170],\n",
       "         ...,\n",
       "         [211, 219, 225],\n",
       "         [215, 223, 229],\n",
       "         [217, 225, 231]],\n",
       " \n",
       "        [[166, 171, 170],\n",
       "         [168, 173, 172],\n",
       "         [164, 169, 170],\n",
       "         ...,\n",
       "         [215, 223, 229],\n",
       "         [218, 226, 232],\n",
       "         [215, 223, 229]],\n",
       " \n",
       "        ...,\n",
       " \n",
       "        [[151, 151, 164],\n",
       "         [155, 154, 168],\n",
       "         [146, 145, 158],\n",
       "         ...,\n",
       "         [200, 210, 216],\n",
       "         [198, 208, 214],\n",
       "         [198, 208, 214]],\n",
       " \n",
       "        [[141, 140, 154],\n",
       "         [140, 139, 153],\n",
       "         [143, 143, 156],\n",
       "         ...,\n",
       "         [201, 211, 217],\n",
       "         [194, 204, 210],\n",
       "         [192, 202, 208]],\n",
       " \n",
       "        [[142, 141, 155],\n",
       "         [150, 150, 163],\n",
       "         [155, 154, 168],\n",
       "         ...,\n",
       "         [199, 209, 215],\n",
       "         [198, 208, 214],\n",
       "         [195, 206, 211]]], dtype=uint8))"
      ]
     },
     "execution_count": 203,
     "metadata": {},
     "output_type": "execute_result"
    }
   ],
   "source": [
    "hand"
   ]
  },
  {
   "cell_type": "code",
   "execution_count": 205,
   "id": "1120b38e-08ee-4b0c-bab5-99e3fcb86ab3",
   "metadata": {},
   "outputs": [],
   "source": [
    "d = hand[0]"
   ]
  },
  {
   "cell_type": "code",
   "execution_count": 207,
   "id": "b259c54e-371f-4bb5-8469-892dcb12f805",
   "metadata": {},
   "outputs": [
    {
     "name": "stdout",
     "output_type": "stream",
     "text": [
      "[{'lmList': [[831, 509, 0], [785, 494, -13], [743, 469, -24], [711, 443, -34], [685, 428, -44], [781, 403, -19], [760, 351, -31], [752, 321, -38], [747, 297, -43], [811, 395, -21], [806, 331, -30], [804, 295, -36], [806, 272, -40], [842, 397, -25], [841, 341, -32], [839, 307, -39], [840, 281, -44], [871, 407, -29], [884, 368, -36], [889, 341, -39], [893, 317, -42]], 'bbox': (685, 272, 208, 237), 'center': (789, 390), 'type': 'Right'}]\n"
     ]
    }
   ],
   "source": [
    "print(d)\n"
   ]
  },
  {
   "cell_type": "code",
   "execution_count": 225,
   "id": "94753460-8203-40e0-9f2f-f77b2a061d16",
   "metadata": {},
   "outputs": [
    {
     "name": "stdout",
     "output_type": "stream",
     "text": [
      "{'lmList': [[287, 688, 0], [350, 661, -25], [397, 629, -38], [441, 590, -51], [475, 566, -64], [358, 532, -10], [386, 473, -25], [401, 434, -37], [414, 402, -46], [314, 519, -12], [320, 447, -26], [323, 402, -38], [328, 364, -47], [274, 526, -17], [265, 460, -33], [261, 416, -46], [264, 377, -55], [237, 551, -25], [202, 509, -45], [180, 480, -55], [164, 450, -62]], 'bbox': (164, 364, 311, 324), 'center': (319, 526), 'type': 'Right'}\n",
      "Fingers Up: [1, 1, 1, 1, 1]\n"
     ]
    }
   ],
   "source": [
    "hands, _ = detector.findHands(photo, draw=False)  # Unpack the tuple\n",
    "if hands:  # Check if any hand is detected\n",
    "    detectHand = hands[0]  # Get the first hand's data\n",
    "    print(detectHand)  # Print only the dictionary part\n",
    "    fingerup = detector.fingersUp(detectHand)  # Correctly pass the hand dictionary\n",
    "    print(f\"Fingers Up: {fingerup}\")\n"
   ]
  },
  {
   "cell_type": "code",
   "execution_count": null,
   "id": "662207b3-4202-40a4-a768-ce46880835f0",
   "metadata": {},
   "outputs": [
    {
     "name": "stderr",
     "output_type": "stream",
     "text": [
      "I0000 00:00:1736534519.179704  462710 gl_context.cc:369] GL version: 2.1 (2.1 Metal - 89.3), renderer: Apple M1\n",
      "W0000 00:00:1736534519.232331  534249 inference_feedback_manager.cc:114] Feedback manager requires a model with a single signature inference. Disabling support for feedback tensors.\n",
      "W0000 00:00:1736534519.243872  534249 inference_feedback_manager.cc:114] Feedback manager requires a model with a single signature inference. Disabling support for feedback tensors.\n"
     ]
    },
    {
     "name": "stdout",
     "output_type": "stream",
     "text": [
      "Fingers Up: [1, 1, 1, 1, 1]\n",
      "All fingers up\n"
     ]
    }
   ],
   "source": [
    "import cv2\n",
    "from cvzone.HandTrackingModule import HandDetector\n",
    "import urllib.request\n",
    "\n",
    "detector = HandDetector(maxHands=1, detectionCon=0.8)\n",
    "cap = cv2.VideoCapture(0)\n",
    "\n",
    "while True:\n",
    "    ret, photo = cap.read()\n",
    "    hands, _ = detector.findHands(photo, draw=True)  # Get detected hands and image\n",
    "    \n",
    "    if hands:  # If a hand is detected\n",
    "        detectHand = hands[0]  # Get the first hand's data\n",
    "        fingerup = detector.fingersUp(detectHand)  # Check which fingers are up\n",
    "        print(f\"Fingers Up: {fingerup}\")\n",
    "        \n",
    "        # Perform actions based on the detected finger pattern\n",
    "        if fingerup == [0, 1, 1, 0, 0]:\n",
    "            print(\"Initial 2 fingers up\")\n",
    "            request_url = urllib.request.urlopen('https://a0g2rzd099.execute-api.ap-south-1.amazonaws.com/test/docker')\n",
    "            print(request_url.read())\n",
    "        elif fingerup == [0, 1, 1, 1, 0]:\n",
    "            print(\"Middle 3 fingers up\")\n",
    "            request_url = urllib.request.urlopen('https://a0g2rzd099.execute-api.ap-south-1.amazonaws.com/test/docker')\n",
    "            print(request_url.read())\n",
    "        elif fingerup == [0, 1, 1, 1, 1]:\n",
    "            print(\"Middle 4 fingers up\")\n",
    "            request_url = urllib.request.urlopen('https://a0g2rzd099.execute-api.ap-south-1.amazonaws.com/test/docker')\n",
    "            print(request_url.read())\n",
    "        elif fingerup == [1, 1, 1, 1, 1]:\n",
    "            print(\"All fingers up\")\n",
    "            request_url = urllib.request.urlopen('https://a0g2rzd099.execute-api.ap-south-1.amazonaws.com/test/docker')\n",
    "            print(request_url.read())\n",
    "\n",
    "    cv2.imshow(\"Hand Tracking\", photo)\n",
    "    if cv2.waitKey(10) == 13:  # Press Enter to exit\n",
    "        break\n",
    "\n",
    "cap.release()\n",
    "cv2.destroyAllWindows()\n"
   ]
  },
  {
   "cell_type": "code",
   "execution_count": null,
   "id": "9bcb1050-da74-4ae8-bb91-26aea456fbce",
   "metadata": {},
   "outputs": [],
   "source": []
  }
 ],
 "metadata": {
  "kernelspec": {
   "display_name": "Python 3 (ipykernel)",
   "language": "python",
   "name": "python3"
  },
  "language_info": {
   "codemirror_mode": {
    "name": "ipython",
    "version": 3
   },
   "file_extension": ".py",
   "mimetype": "text/x-python",
   "name": "python",
   "nbconvert_exporter": "python",
   "pygments_lexer": "ipython3",
   "version": "3.12.7"
  }
 },
 "nbformat": 4,
 "nbformat_minor": 5
}
