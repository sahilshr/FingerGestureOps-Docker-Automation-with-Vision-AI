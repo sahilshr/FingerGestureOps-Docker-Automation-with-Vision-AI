{
 "cells": [
  {
   "cell_type": "code",
   "execution_count": null,
   "id": "a0400f16-7cc4-48ff-a6ef-c2aa83c51747",
   "metadata": {},
   "outputs": [],
   "source": [
    "import json\n",
    "import boto3\n",
    "def lambda_handler(event, context):\n",
    "    ssm_client = boto3.client('ssm' , region_name='ap-south-1' )\n",
    "    cmd = {\"commands\": [\"docker run -d -t -i ubuntu:14.04\"] }\n",
    "    ssm_client.send_command(DocumentName=\"AWS-RunShellScript\" , InstanceIds=[\"i-073517bba064ab420\"], Parameters=cmd )\n",
    "    return {\n",
    "        'statusCode': 200,\n",
    "        'body': json.dumps('Docker Launched!')\n",
    "    } "
   ]
  }
 ],
 "metadata": {
  "kernelspec": {
   "display_name": "Python 3 (ipykernel)",
   "language": "python",
   "name": "python3"
  },
  "language_info": {
   "codemirror_mode": {
    "name": "ipython",
    "version": 3
   },
   "file_extension": ".py",
   "mimetype": "text/x-python",
   "name": "python",
   "nbconvert_exporter": "python",
   "pygments_lexer": "ipython3",
   "version": "3.12.7"
  }
 },
 "nbformat": 4,
 "nbformat_minor": 5
}
